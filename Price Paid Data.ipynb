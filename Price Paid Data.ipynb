{
 "cells": [
  {
   "cell_type": "code",
   "execution_count": 149,
   "id": "486209c4",
   "metadata": {},
   "outputs": [],
   "source": [
    "import pandas as pd\n",
    "import seaborn as sn\n",
    "import matplotlib.pyplot as plt\n",
    "\n",
    "from sklearn.linear_model import LinearRegression\n",
    "from sklearn import tree\n",
    "from sklearn.ensemble import RandomForestRegressor\n",
    "from sklearn.metrics import r2_score"
   ]
  },
  {
   "cell_type": "markdown",
   "id": "78a8021b",
   "metadata": {},
   "source": [
    "# Import dataset"
   ]
  },
  {
   "cell_type": "markdown",
   "id": "abac775c",
   "metadata": {},
   "source": [
    "### I use data from 2012 to 2014 as train and 2015 data as test because my computer can't handle all the data."
   ]
  },
  {
   "cell_type": "code",
   "execution_count": 134,
   "id": "38377025",
   "metadata": {},
   "outputs": [
    {
     "data": {
      "text/html": [
       "<div>\n",
       "<style scoped>\n",
       "    .dataframe tbody tr th:only-of-type {\n",
       "        vertical-align: middle;\n",
       "    }\n",
       "\n",
       "    .dataframe tbody tr th {\n",
       "        vertical-align: top;\n",
       "    }\n",
       "\n",
       "    .dataframe thead th {\n",
       "        text-align: right;\n",
       "    }\n",
       "</style>\n",
       "<table border=\"1\" class=\"dataframe\">\n",
       "  <thead>\n",
       "    <tr style=\"text-align: right;\">\n",
       "      <th></th>\n",
       "      <th>Transaction unique identifier</th>\n",
       "      <th>Price</th>\n",
       "      <th>Date of Transfer</th>\n",
       "      <th>Postcode</th>\n",
       "      <th>Property Code</th>\n",
       "      <th>Old/New</th>\n",
       "      <th>Duration</th>\n",
       "      <th>PAON</th>\n",
       "      <th>SAON</th>\n",
       "      <th>Street</th>\n",
       "      <th>Locality</th>\n",
       "      <th>Town/City</th>\n",
       "      <th>District</th>\n",
       "      <th>County</th>\n",
       "      <th>PPD Category Type</th>\n",
       "      <th>Record Status</th>\n",
       "    </tr>\n",
       "  </thead>\n",
       "  <tbody>\n",
       "    <tr>\n",
       "      <th>0</th>\n",
       "      <td>{F6CA8404-B100-471F-9350-5D64A729A0D1}</td>\n",
       "      <td>125000</td>\n",
       "      <td>2012-10-05 00:00</td>\n",
       "      <td>SS1 2RT</td>\n",
       "      <td>F</td>\n",
       "      <td>N</td>\n",
       "      <td>L</td>\n",
       "      <td>8</td>\n",
       "      <td>NaN</td>\n",
       "      <td>HONITON ROAD</td>\n",
       "      <td>NaN</td>\n",
       "      <td>SOUTHEND-ON-SEA</td>\n",
       "      <td>SOUTHEND-ON-SEA</td>\n",
       "      <td>SOUTHEND-ON-SEA</td>\n",
       "      <td>A</td>\n",
       "      <td>A</td>\n",
       "    </tr>\n",
       "    <tr>\n",
       "      <th>1</th>\n",
       "      <td>{9DFDD84B-7D1C-4653-A630-6B974380B686}</td>\n",
       "      <td>174000</td>\n",
       "      <td>2012-02-09 00:00</td>\n",
       "      <td>TS12 2WP</td>\n",
       "      <td>D</td>\n",
       "      <td>N</td>\n",
       "      <td>F</td>\n",
       "      <td>9</td>\n",
       "      <td>NaN</td>\n",
       "      <td>LONGTHWAITE CLOSE</td>\n",
       "      <td>SKELTON IN CLEVELAND</td>\n",
       "      <td>SALTBURN-BY-THE-SEA</td>\n",
       "      <td>REDCAR AND CLEVELAND</td>\n",
       "      <td>REDCAR AND CLEVELAND</td>\n",
       "      <td>A</td>\n",
       "      <td>A</td>\n",
       "    </tr>\n",
       "    <tr>\n",
       "      <th>2</th>\n",
       "      <td>{72C52A7A-FD12-4341-96C9-6B9766FBEDB8}</td>\n",
       "      <td>161000</td>\n",
       "      <td>2012-01-27 00:00</td>\n",
       "      <td>BD10 8RW</td>\n",
       "      <td>D</td>\n",
       "      <td>N</td>\n",
       "      <td>F</td>\n",
       "      <td>12</td>\n",
       "      <td>NaN</td>\n",
       "      <td>CROFTLANDS</td>\n",
       "      <td>NaN</td>\n",
       "      <td>BRADFORD</td>\n",
       "      <td>BRADFORD</td>\n",
       "      <td>WEST YORKSHIRE</td>\n",
       "      <td>A</td>\n",
       "      <td>A</td>\n",
       "    </tr>\n",
       "    <tr>\n",
       "      <th>3</th>\n",
       "      <td>{3B878B99-848F-4465-A8BD-6470495AA086}</td>\n",
       "      <td>210000</td>\n",
       "      <td>2012-06-12 00:00</td>\n",
       "      <td>NN3 9TU</td>\n",
       "      <td>D</td>\n",
       "      <td>N</td>\n",
       "      <td>F</td>\n",
       "      <td>52</td>\n",
       "      <td>NaN</td>\n",
       "      <td>RUSSET DRIVE</td>\n",
       "      <td>LITTLE BILLING</td>\n",
       "      <td>NORTHAMPTON</td>\n",
       "      <td>NORTHAMPTON</td>\n",
       "      <td>NORTHAMPTONSHIRE</td>\n",
       "      <td>A</td>\n",
       "      <td>A</td>\n",
       "    </tr>\n",
       "    <tr>\n",
       "      <th>4</th>\n",
       "      <td>{D41CCC26-D63F-47E2-A1D0-64705F83A61F}</td>\n",
       "      <td>437000</td>\n",
       "      <td>2012-12-21 00:00</td>\n",
       "      <td>RH10 8DZ</td>\n",
       "      <td>D</td>\n",
       "      <td>Y</td>\n",
       "      <td>F</td>\n",
       "      <td>THE HOLLIES, 2A</td>\n",
       "      <td>NaN</td>\n",
       "      <td>HOLLYBUSH ROAD</td>\n",
       "      <td>NaN</td>\n",
       "      <td>CRAWLEY</td>\n",
       "      <td>CRAWLEY</td>\n",
       "      <td>WEST SUSSEX</td>\n",
       "      <td>A</td>\n",
       "      <td>A</td>\n",
       "    </tr>\n",
       "  </tbody>\n",
       "</table>\n",
       "</div>"
      ],
      "text/plain": [
       "            Transaction unique identifier   Price  Date of Transfer  Postcode  \\\n",
       "0  {F6CA8404-B100-471F-9350-5D64A729A0D1}  125000  2012-10-05 00:00   SS1 2RT   \n",
       "1  {9DFDD84B-7D1C-4653-A630-6B974380B686}  174000  2012-02-09 00:00  TS12 2WP   \n",
       "2  {72C52A7A-FD12-4341-96C9-6B9766FBEDB8}  161000  2012-01-27 00:00  BD10 8RW   \n",
       "3  {3B878B99-848F-4465-A8BD-6470495AA086}  210000  2012-06-12 00:00   NN3 9TU   \n",
       "4  {D41CCC26-D63F-47E2-A1D0-64705F83A61F}  437000  2012-12-21 00:00  RH10 8DZ   \n",
       "\n",
       "  Property Code Old/New Duration             PAON SAON             Street  \\\n",
       "0             F       N        L                8  NaN       HONITON ROAD   \n",
       "1             D       N        F                9  NaN  LONGTHWAITE CLOSE   \n",
       "2             D       N        F               12  NaN         CROFTLANDS   \n",
       "3             D       N        F               52  NaN       RUSSET DRIVE   \n",
       "4             D       Y        F  THE HOLLIES, 2A  NaN     HOLLYBUSH ROAD   \n",
       "\n",
       "               Locality            Town/City              District  \\\n",
       "0                   NaN      SOUTHEND-ON-SEA       SOUTHEND-ON-SEA   \n",
       "1  SKELTON IN CLEVELAND  SALTBURN-BY-THE-SEA  REDCAR AND CLEVELAND   \n",
       "2                   NaN             BRADFORD              BRADFORD   \n",
       "3        LITTLE BILLING          NORTHAMPTON           NORTHAMPTON   \n",
       "4                   NaN              CRAWLEY               CRAWLEY   \n",
       "\n",
       "                 County PPD Category Type Record Status  \n",
       "0       SOUTHEND-ON-SEA                 A             A  \n",
       "1  REDCAR AND CLEVELAND                 A             A  \n",
       "2        WEST YORKSHIRE                 A             A  \n",
       "3      NORTHAMPTONSHIRE                 A             A  \n",
       "4           WEST SUSSEX                 A             A  "
      ]
     },
     "execution_count": 134,
     "metadata": {},
     "output_type": "execute_result"
    }
   ],
   "source": [
    "columns = [\"Transaction unique identifier\",\"Price\", \"Date of Transfer\",\"Postcode\", \"Property Code\",\n",
    "              \"Old/New\",\"Duration\",\"PAON\",\"SAON\",\"Street\",\"Locality\",\n",
    "              \"Town/City\",\"District\",\"County\",\"PPD Category Type\",\"Record Status\"]\n",
    "\n",
    "df_2012_1 = pd.read_csv(\"./data/pp-2012-part1.csv\", sep=\",\")\n",
    "df_2012_1.columns = columns\n",
    "df_2012_2 = pd.read_csv(\"./data/pp-2012-part2.csv\", sep=\",\")\n",
    "df_2012_2.columns = columns\n",
    "df_2013_1 = pd.read_csv(\"./data/pp-2013-part1.csv\", sep=\",\")\n",
    "df_2013_1.columns = columns\n",
    "df_2013_2 = pd.read_csv(\"./data/pp-2013-part2.csv\", sep=\",\")\n",
    "df_2013_2.columns = columns\n",
    "df_2014_1 = pd.read_csv(\"./data/pp-2014-part1.csv\", sep=\",\")\n",
    "df_2014_1.columns = columns\n",
    "df_2014_2 = pd.read_csv(\"./data/pp-2014-part2.csv\", sep=\",\")\n",
    "df_2014_2.columns = columns\n",
    "df_train = [df_2012_1, df_2012_2, df_2013_1, df_2013_2, df_2014_1, df_2014_2]\n",
    "df_train = pd.concat(df_train)\n",
    "\n",
    "df_2015_1 = pd.read_csv(\"./data/pp-2015-part1.csv\", sep=\",\")\n",
    "df_2015_1.columns = columns\n",
    "df_2015_2 = pd.read_csv(\"./data/pp-2015-part2.csv\", sep=\",\")\n",
    "df_2015_2.columns = columns\n",
    "df_test = [df_2015_1, df_2015_2]\n",
    "df_test = pd.concat(df_test)\n",
    "\n",
    "df_train.head()"
   ]
  },
  {
   "cell_type": "markdown",
   "id": "4db10b35",
   "metadata": {},
   "source": [
    "# Handling null values"
   ]
  },
  {
   "cell_type": "code",
   "execution_count": 135,
   "id": "11428ca9",
   "metadata": {},
   "outputs": [
    {
     "name": "stdout",
     "output_type": "stream",
     "text": [
      "----------------Checking null values for X_train---------------\n",
      "\n",
      "Transaction unique identifier has 0 null values\n",
      "Price has 0 null values\n",
      "Date of Transfer has 0 null values\n",
      "Postcode has 1780 null values\n",
      "Property Code has 0 null values\n",
      "Old/New has 0 null values\n",
      "Duration has 0 null values\n",
      "PAON has 8 null values\n",
      "SAON has 2145673 null values\n",
      "Street has 36330 null values\n",
      "Locality has 1582441 null values\n",
      "Town/City has 0 null values\n",
      "District has 0 null values\n",
      "County has 0 null values\n",
      "PPD Category Type has 0 null values\n",
      "Record Status has 0 null values\n",
      "\n",
      "----------------Checking null values for X_test---------------\n",
      "\n",
      "Transaction unique identifier has 0 null values\n",
      "Price has 0 null values\n",
      "Date of Transfer has 0 null values\n",
      "Postcode has 1780 null values\n",
      "Property Code has 0 null values\n",
      "Old/New has 0 null values\n",
      "Duration has 0 null values\n",
      "PAON has 8 null values\n",
      "SAON has 2145673 null values\n",
      "Street has 36330 null values\n",
      "Locality has 1582441 null values\n",
      "Town/City has 0 null values\n",
      "District has 0 null values\n",
      "County has 0 null values\n",
      "PPD Category Type has 0 null values\n",
      "Record Status has 0 null values\n"
     ]
    }
   ],
   "source": [
    "print(\"----------------Checking null values for X_train---------------\\n\")\n",
    "for column in df_train:\n",
    "    print(column, \"has\", df_train[column].isnull().sum(), \"null values\")\n",
    "\n",
    "print(\"\\n----------------Checking null values for X_test---------------\\n\")\n",
    "for column in df_train:\n",
    "    print(column, \"has\", df_train[column].isnull().sum(), \"null values\")"
   ]
  },
  {
   "cell_type": "markdown",
   "id": "caa7a739",
   "metadata": {},
   "source": [
    "### Deleting features that has to much null values"
   ]
  },
  {
   "cell_type": "code",
   "execution_count": 136,
   "id": "41108c7d",
   "metadata": {},
   "outputs": [],
   "source": [
    "# SAON, Street, locality have to much null values to be used properly, so I won't use these features.\n",
    "df_train = df_train.drop(['SAON', 'Street', 'Locality'], axis=1)\n",
    "df_test = df_test.drop(['SAON', 'Street', 'Locality'], axis=1)"
   ]
  },
  {
   "cell_type": "markdown",
   "id": "cd4d6c09",
   "metadata": {},
   "source": [
    "# Handling date feature"
   ]
  },
  {
   "cell_type": "markdown",
   "id": "6a40d431",
   "metadata": {},
   "source": [
    "### Price might vary over time, i will check median prices year by year"
   ]
  },
  {
   "cell_type": "code",
   "execution_count": 137,
   "id": "b8a78342",
   "metadata": {},
   "outputs": [
    {
     "name": "stdout",
     "output_type": "stream",
     "text": [
      "median price for house sold in 2012 : 180000.0\n",
      "median price for house sold in 2013 : 184995.0\n",
      "median price for house sold in 2014 : 190000.0\n"
     ]
    }
   ],
   "source": [
    "# Extract year from date of transfer\n",
    "def DateToYear(date):\n",
    "    return date[0 : 4]\n",
    "    \n",
    "#change date feature to year \n",
    "df_train[\"Date of Transfer\"] = df_train[\"Date of Transfer\"].map(lambda date: DateToYear(date))\n",
    "df_test[\"Date of Transfer\"] = df_test[\"Date of Transfer\"].map(lambda date: DateToYear(date))\n",
    "\n",
    "#checking median prices by year\n",
    "unique_year_values = df_train[\"Date of Transfer\"].unique()\n",
    "for year in unique_year_values:\n",
    "    print(\"median price for house sold in\", year, ':', df_train[df_train[\"Date of Transfer\"] == year]['Price'].median())"
   ]
  },
  {
   "cell_type": "markdown",
   "id": "f26cc1b9",
   "metadata": {},
   "source": [
    "### The price seems to go up over time, so we will use the years in which the house was sold has a feature."
   ]
  },
  {
   "cell_type": "code",
   "execution_count": 138,
   "id": "c8603506",
   "metadata": {},
   "outputs": [],
   "source": [
    "df_train[\"Date of Transfer\"] = df_train[\"Date of Transfer\"].map(lambda year: int(year))\n",
    "df_test[\"Date of Transfer\"] = df_test[\"Date of Transfer\"].map(lambda year: int(year))"
   ]
  },
  {
   "cell_type": "markdown",
   "id": "4dbd2134",
   "metadata": {},
   "source": [
    "# Localisation features"
   ]
  },
  {
   "cell_type": "markdown",
   "id": "96c6b883",
   "metadata": {},
   "source": [
    "### As instructed, i will only use whether or not the house is in London for the feature \"Town/City\"."
   ]
  },
  {
   "cell_type": "code",
   "execution_count": 139,
   "id": "61a69bbd",
   "metadata": {},
   "outputs": [],
   "source": [
    "df_train[\"isInLondon\"] = df_train[\"Town/City\"].map(lambda town: 1 if town == \"LONDON\" else 0)\n",
    "df_test[\"isInLondon\"] = df_test[\"Town/City\"].map(lambda town: 1 if town == \"LONDON\" else 0)"
   ]
  },
  {
   "cell_type": "markdown",
   "id": "05c4ddb8",
   "metadata": {},
   "source": [
    "### Using District and County should have a positive impact on the model but I will only use isInLondon as a localisation feature here so i don't add to many features. Using get dummies on these features could have been a solution to use the values."
   ]
  },
  {
   "cell_type": "code",
   "execution_count": 140,
   "id": "a8bf96af",
   "metadata": {},
   "outputs": [],
   "source": [
    "df_train = df_train.drop(['District', 'PAON', 'County', 'Town/City'], axis=1)\n",
    "df_test = df_test.drop(['District', 'PAON', 'County', 'Town/City'], axis=1)"
   ]
  },
  {
   "cell_type": "markdown",
   "id": "4c3d0430",
   "metadata": {},
   "source": [
    "# PPD Category Type and Record Status"
   ]
  },
  {
   "cell_type": "markdown",
   "id": "b3372701",
   "metadata": {},
   "source": [
    "### I'm checking the ditribution of values for PPD Category Type and Record Status to see if they are relevant"
   ]
  },
  {
   "cell_type": "code",
   "execution_count": 141,
   "id": "9a8e7858",
   "metadata": {},
   "outputs": [
    {
     "name": "stdout",
     "output_type": "stream",
     "text": [
      "A    2378396\n",
      "B      85341\n",
      "Name: PPD Category Type, dtype: int64\n",
      "A    2463737\n",
      "Name: Record Status, dtype: int64\n"
     ]
    }
   ],
   "source": [
    "print(df_train['PPD Category Type'].value_counts())\n",
    "print(df_train['Record Status'].value_counts())"
   ]
  },
  {
   "cell_type": "markdown",
   "id": "33fe9df2",
   "metadata": {},
   "source": [
    "### 'Record Status' contains only 1 value here so it doesn't make sense to keep it."
   ]
  },
  {
   "cell_type": "code",
   "execution_count": 142,
   "id": "ebd36984",
   "metadata": {},
   "outputs": [],
   "source": [
    "df_train = df_train.drop(['Record Status'], axis=1)\n",
    "df_test = df_test.drop(['Record Status'], axis=1)"
   ]
  },
  {
   "cell_type": "markdown",
   "id": "a51b6315",
   "metadata": {},
   "source": [
    "# Changing last useful features to numerical so they can be used in a model"
   ]
  },
  {
   "cell_type": "code",
   "execution_count": 144,
   "id": "aa0a1cc0",
   "metadata": {},
   "outputs": [],
   "source": [
    "def propertyCodeToInt(code):\n",
    "    if code == 'D':\n",
    "        return 1\n",
    "    elif code == 'S':\n",
    "        return 2\n",
    "    elif code == 'T':\n",
    "        return 3\n",
    "    elif code == 'F':\n",
    "        return 4\n",
    "    else:\n",
    "        return 0\n",
    "    \n",
    "def PPDCategoryTypeToInt(category):\n",
    "    if category == 'A':\n",
    "        return 0\n",
    "    elif category == 'B':\n",
    "        return 1\n",
    "\n",
    "df_train[\"Old/New\"] = df_train[\"Old/New\"].map(lambda isOld: 1 if isOld == \"Y\" else 0)\n",
    "df_test[\"Old/New\"] = df_test[\"Old/New\"].map(lambda town: 1 if town == \"Y\" else 0)\n",
    "\n",
    "df_train[\"Duration\"] = df_train[\"Duration\"].map(lambda duration: 1 if duration == \"F\" else 0)\n",
    "df_test[\"Duration\"] = df_test[\"Duration\"].map(lambda town: 1 if town == \"F\" else 0)\n",
    "\n",
    "df_train[\"Property Code\"] = df_train[\"Property Code\"].map(lambda code: propertyCodeToInt(code))\n",
    "df_test[\"Property Code\"] = df_test[\"Property Code\"].map(lambda code: propertyCodeToInt(code))\n",
    "\n",
    "df_train[\"PPD Category Type\"] = df_train[\"PPD Category Type\"].map(lambda code: propertyCodeToInt(code))\n",
    "df_test[\"PPD Category Type\"] = df_test[\"PPD Category Type\"].map(lambda code: propertyCodeToInt(code))"
   ]
  },
  {
   "cell_type": "markdown",
   "id": "57dc4cdd",
   "metadata": {},
   "source": [
    "# Dropping last useless features"
   ]
  },
  {
   "cell_type": "markdown",
   "id": "c0437a23",
   "metadata": {},
   "source": [
    "### Some features doesn't make sense to predict the price of the house, such as 'Transaction unique identifier' or 'Postcode'"
   ]
  },
  {
   "cell_type": "code",
   "execution_count": 145,
   "id": "aa70bab2",
   "metadata": {},
   "outputs": [],
   "source": [
    "df_train = df_train.drop(['Transaction unique identifier', 'Postcode'], axis=1)\n",
    "df_test = df_test.drop(['Transaction unique identifier', 'Postcode'], axis=1)"
   ]
  },
  {
   "cell_type": "markdown",
   "id": "d74be0af",
   "metadata": {},
   "source": [
    "# Using correlation matrix to have an insight on ou data"
   ]
  },
  {
   "cell_type": "code",
   "execution_count": 146,
   "id": "6e2e4db9",
   "metadata": {},
   "outputs": [
    {
     "data": {
      "image/png": "[encoded data removed]",
      "text/plain": [
       "<Figure size 432x288 with 2 Axes>"
      ]
     },
     "metadata": {
      "needs_background": "light"
     },
     "output_type": "display_data"
    }
   ],
   "source": [
    "corrMatrix = df_train.corr()\n",
    "sn.heatmap(corrMatrix, annot=True)\n",
    "plt.show()"
   ]
  },
  {
   "cell_type": "markdown",
   "id": "092fd686",
   "metadata": {},
   "source": [
    "We're looking at the first row or first column.\n",
    "\n",
    "The feature instructed \"isInLondon\" seems to have a good impact on the price and is relevant. The others features however doesn't show a good correlation with the price we are trying to be predict.\n",
    "\n",
    "Based on this correlation matrix it appears we either miss some informations or we need more feature engineering predict the price precisly. "
   ]
  },
  {
   "cell_type": "markdown",
   "id": "c2d1969f",
   "metadata": {},
   "source": [
    "# Splitting X and Y"
   ]
  },
  {
   "cell_type": "code",
   "execution_count": 147,
   "id": "c3c491b2",
   "metadata": {},
   "outputs": [
    {
     "name": "stdout",
     "output_type": "stream",
     "text": [
      "Index(['Date of Transfer', 'Property Code', 'Old/New', 'Duration',\n",
      "       'PPD Category Type', 'isInLondon'],\n",
      "      dtype='object')\n",
      "Index(['Date of Transfer', 'Property Code', 'Old/New', 'Duration',\n",
      "       'PPD Category Type', 'isInLondon'],\n",
      "      dtype='object')\n"
     ]
    }
   ],
   "source": [
    "Y_train = df_train['Price']\n",
    "X_train = df_train.drop(['Price'], axis=1)\n",
    "\n",
    "Y_test = df_test['Price']\n",
    "X_test = df_test.drop(['Price'], axis=1)\n",
    "\n",
    "print(X_test.columns)\n",
    "print(X_train.columns)"
   ]
  },
  {
   "cell_type": "markdown",
   "id": "9fe707e5",
   "metadata": {},
   "source": [
    "# Testing models"
   ]
  },
  {
   "cell_type": "code",
   "execution_count": 151,
   "id": "dde8d590",
   "metadata": {},
   "outputs": [
    {
     "name": "stdout",
     "output_type": "stream",
     "text": [
      "r2_score for linear regression : 0.041546574246906665\n",
      "r2_score for decision tree : 0.10222012434766325\n",
      "r2_score for decision tree : 0.10236539269127043\n"
     ]
    }
   ],
   "source": [
    "regressor = LinearRegression().fit(X_train, Y_train)\n",
    "\n",
    "Y_pred = regressor.predict(X_test)\n",
    "print(\"r2_score for linear regression :\", r2_score(Y_test, Y_pred))\n",
    "\n",
    "regressor = tree.DecisionTreeRegressor().fit(X_train, Y_train)\n",
    "Y_pred = regressor.predict(X_test)\n",
    "print(\"r2_score for decision tree :\", r2_score(Y_test, Y_pred))\n",
    "\n",
    "regressor = RandomForestRegressor(max_depth=10, random_state=0).fit(X_train, Y_train)\n",
    "Y_pred = regressor.predict(X_test)\n",
    "print(\"r2_score for decision tree :\", r2_score(Y_test, Y_pred))"
   ]
  },
  {
   "cell_type": "markdown",
   "id": "a9b73754",
   "metadata": {},
   "source": [
    "The best model here is the decision tree, we could test more parameters to be sure the model chosen is the right one and increase\n",
    "the quality of our prediction.\n",
    "The score obtained makes sense according to correlation we saw in the correlation matrix."
   ]
  }
 ],
 "metadata": {
  "kernelspec": {
   "display_name": "Python 3 (ipykernel)",
   "language": "python",
   "name": "python3"
  },
  "language_info": {
   "codemirror_mode": {
    "name": "ipython",
    "version": 3
   },
   "file_extension": ".py",
   "mimetype": "text/x-python",
   "name": "python",
   "nbconvert_exporter": "python",
   "pygments_lexer": "ipython3",
   "version": "3.9.9"
  }
 },
 "nbformat": 4,
 "nbformat_minor": 5
}
